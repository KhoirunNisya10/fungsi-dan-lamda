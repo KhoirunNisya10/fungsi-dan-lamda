{
  "nbformat": 4,
  "nbformat_minor": 0,
  "metadata": {
    "colab": {
      "provenance": []
    },
    "kernelspec": {
      "name": "python3",
      "display_name": "Python 3"
    },
    "language_info": {
      "name": "python"
    }
  },
  "cells": [
    {
      "cell_type": "markdown",
      "source": [
        "**Function**\n",
        "\n",
        "Fungtion (fungs) adalah sebuah blok statement yang hanya akan dijalankan saat ia panggil\n",
        "\n",
        "Fungsi len() untuk mengukur jumlah elemen dalam sebuah list dan fungsi print) untuk menampilkan pesan pada layar konsol merupakan contoh dari bentuk fungsi yang telah disediakan oleh bahasa pemrograman Phyton dengan kata lain built-in functions. Selain fungsi yang telah disediakan oleh Phyton, Phyton mengizinkan untuk mendeklarasikan fungsi dalam kode yang dituliskan yang dikenal dengan user defined function."
      ],
      "metadata": {
        "id": "VWcuMCaznOED"
      }
    },
    {
      "cell_type": "code",
      "source": [
        "def nama_fungsi(argument):\n",
        "  statement_1\n",
        "  -\n",
        "  statement_n\n",
        "  return returned_value\n",
        ""
      ],
      "metadata": {
        "id": "gCMv-2Jtq0Hu"
      },
      "execution_count": null,
      "outputs": []
    },
    {
      "cell_type": "markdown",
      "source": [
        "* nama_fungsi adalah untuk fungsi yang anda definisikan, memiliki aturan seperti penamaan variabel\n",
        "\n",
        "* argument adalah variable masukan ke fungsi, biasa tanpa variable, satu variable atau lebih\n",
        "\n",
        "* statement 1. statement n adalah algoritma yang telah anda transfer dalam bahasa phyton yang merupakan inti dari fungsi yang anda definisikan. Seluruh statement adalah menjorok (indent) ke dalam seperti yang pernah anda pelajari pada conditioning dan looping\n",
        "\n",
        "* return_value adalah variable output dari fungsi anda, bisa tanpa variable, satu variable atau lebih"
      ],
      "metadata": {
        "id": "z-6weiUvrIkW"
      }
    },
    {
      "cell_type": "markdown",
      "source": [
        "**Argumen dan Parameter**\n",
        "* Parameter adalah variable yang digunakan dalam deklarasi fungsi\n",
        "\n",
        "* Argumen adalah nilai yang diberikan saat pemanggilan fungsi"
      ],
      "metadata": {
        "id": "68skPbMJri9r"
      }
    },
    {
      "cell_type": "code",
      "source": [
        "def print_nama(nama): #'nama' adalah parameter\n",
        "    print(nama)\n",
        "\n",
        "print_nama('Budi')#'Budi' adalah argumen"
      ],
      "metadata": {
        "colab": {
          "base_uri": "https://localhost:8080/"
        },
        "id": "gLg5iK21r0qk",
        "outputId": "b90eb1c4-5fb5-4c1e-d3a1-20dab987b62e"
      },
      "execution_count": 1,
      "outputs": [
        {
          "output_type": "stream",
          "name": "stdout",
          "text": [
            "Budi\n"
          ]
        }
      ]
    },
    {
      "cell_type": "markdown",
      "source": [
        "**Argumen posisi dan kata kunci**\n",
        "\n",
        "* Kita bisa menyatakan argumen posisi atau kata kunci. Beberapa manfaat argumen kata kunci dapat berur\n",
        "\n",
        "* Kita dapat menyebut argumen dengan mereka untuk memperjelas apa yang mereka wakili\n",
        "\n",
        "* Kita dapat mengatur ulang argumen dengan cara membuatnya paling mudah dibaca"
      ],
      "metadata": {
        "id": "00ealY1HsLEf"
      }
    },
    {
      "cell_type": "code",
      "source": [
        "def angka(a, b, c):\n",
        "    print(a, b, c)\n",
        "\n",
        "#argumen posisi\n",
        "#argumen berdasarkan kata kuncinya\n",
        "angka(1, 2, 3)\n",
        "\n",
        "#argumen berdasarkan kata kuncinya\n",
        "angka(a=1, b=2, c=3)\n",
        "angka(c=3, b=2, a=1)\n",
        "\n",
        "#catatan: jika sudah diberi kunci maka urutan tidak menjadi penting\n",
        "\n",
        "#campur antara argumen posisi dan argumen kata kunci\n",
        "angka(1, b=2, c=3)\n",
        "\n",
        "#ini tidak diijinkan:\n",
        "#foo(1, b=2, 3) #argumen posisional setelah argumen kunci\n",
        "#foo(1, b=2, a=3) #terdapat dua nilai untuk argumen kunci 'a'"
      ],
      "metadata": {
        "colab": {
          "base_uri": "https://localhost:8080/"
        },
        "id": "Q0XG2W0dsJfZ",
        "outputId": "f1acc582-ef7b-4633-fa2b-8122a7705f3b"
      },
      "execution_count": 2,
      "outputs": [
        {
          "output_type": "stream",
          "name": "stdout",
          "text": [
            "1 2 3\n",
            "1 2 3\n",
            "1 2 3\n",
            "1 2 3\n"
          ]
        }
      ]
    },
    {
      "cell_type": "markdown",
      "source": [
        "**Argumen Default**\n",
        "\n",
        "Fungsi dapat memiliki argumen default dengan nilai yang telah ditentukan sebelumnya. Argumen ini dapat ditinggalkan dan nilai default kemudian diteruskan ke fungsi, atau argumen dapat dirubah dengan nilai yang berbeda. Perhatikan bahwa argumen default harus ditentukan sebagai parameter terakhir dalam suatu fungsi"
      ],
      "metadata": {
        "id": "7_qFqEWpud-t"
      }
    },
    {
      "cell_type": "code",
      "source": [
        "#Argumen default\n",
        "\n",
        "def angka2(a, b, c, d=4):\n",
        "    print(a, b, c, d)\n",
        "\n",
        "angka2(1, 2, 3, 4)\n",
        "angka2(1, b=2, c=3, d=100)\n",
        "#Argumen default harus diletakkan terakhir"
      ],
      "metadata": {
        "colab": {
          "base_uri": "https://localhost:8080/"
        },
        "id": "-MDBgQdXuaTo",
        "outputId": "af249a22-77cd-442f-dfec-e81b64eecec9"
      },
      "execution_count": 3,
      "outputs": [
        {
          "output_type": "stream",
          "name": "stdout",
          "text": [
            "1 2 3 4\n",
            "1 2 3 100\n"
          ]
        }
      ]
    },
    {
      "cell_type": "markdown",
      "source": [
        "**Praktik membuat Fungsi**\n"
      ],
      "metadata": {
        "id": "zdq_87DtvQCi"
      }
    },
    {
      "cell_type": "code",
      "source": [
        "x = 1\n",
        "y = 2\n",
        "x*y"
      ],
      "metadata": {
        "colab": {
          "base_uri": "https://localhost:8080/"
        },
        "id": "4habM2t2vNd8",
        "outputId": "aafb62b6-e466-4b1c-91e6-cfec691b061e"
      },
      "execution_count": 4,
      "outputs": [
        {
          "output_type": "execute_result",
          "data": {
            "text/plain": [
              "2"
            ]
          },
          "metadata": {},
          "execution_count": 4
        }
      ]
    },
    {
      "cell_type": "code",
      "source": [
        "def penjumlahan(x,y):#input\n",
        "  a=x+y  #proses\n",
        "  return a # output\n",
        "penjumlahan(1,2) #menggunakan fungsi"
      ],
      "metadata": {
        "colab": {
          "base_uri": "https://localhost:8080/"
        },
        "id": "dqrlEDh0vagU",
        "outputId": "0c4fc1b6-f433-45fb-b560-46d4d8c1c102"
      },
      "execution_count": 7,
      "outputs": [
        {
          "output_type": "execute_result",
          "data": {
            "text/plain": [
              "3"
            ]
          },
          "metadata": {},
          "execution_count": 7
        }
      ]
    },
    {
      "cell_type": "markdown",
      "source": [
        "penjumlahan yang mungkin untuk tiga bilangan"
      ],
      "metadata": {
        "id": "lqF1VIFTvzq2"
      }
    },
    {
      "cell_type": "code",
      "source": [
        "def penjumlahan(x,y,z=None):\n",
        "  if (z==None):\n",
        "      return x+y\n",
        "  else:\n",
        "      return x+y+z\n",
        "print(penjumlahan(1,2))\n",
        "print(penjumlahan(1,2,3))"
      ],
      "metadata": {
        "colab": {
          "base_uri": "https://localhost:8080/"
        },
        "id": "VhXkdZSdvxGo",
        "outputId": "587d0f7d-7c2b-4f2c-db2f-a55f536ab230"
      },
      "execution_count": 8,
      "outputs": [
        {
          "output_type": "stream",
          "name": "stdout",
          "text": [
            "3\n",
            "6\n"
          ]
        }
      ]
    },
    {
      "cell_type": "markdown",
      "source": [
        "menyimpan hasil fungsi dalam variabel"
      ],
      "metadata": {
        "id": "nf9puX2jwMH2"
      }
    },
    {
      "cell_type": "code",
      "source": [
        "def penjumlahan(x,y):\n",
        "    return x+y\n",
        "a = penjumlahan\n",
        "a(1,2)"
      ],
      "metadata": {
        "colab": {
          "base_uri": "https://localhost:8080/"
        },
        "id": "ql1XCFKywK2E",
        "outputId": "9ef95113-8ccf-4559-86a9-22af03e4eea1"
      },
      "execution_count": 9,
      "outputs": [
        {
          "output_type": "execute_result",
          "data": {
            "text/plain": [
              "3"
            ]
          },
          "metadata": {},
          "execution_count": 9
        }
      ]
    },
    {
      "cell_type": "markdown",
      "source": [
        "**latihan 1**"
      ],
      "metadata": {
        "id": "RgAIthVEyeh2"
      }
    },
    {
      "cell_type": "code",
      "source": [
        "def phytagoras(alas,tinggi):\n",
        "    sisi_miring = (alas ** 2 + tinggi ** 2) ** (1/2)\n",
        "    return sisi_miring"
      ],
      "metadata": {
        "id": "gwyDO0a8wkFo"
      },
      "execution_count": 28,
      "outputs": []
    },
    {
      "cell_type": "code",
      "source": [
        "phytagoras(3,4)"
      ],
      "metadata": {
        "colab": {
          "base_uri": "https://localhost:8080/"
        },
        "id": "tfSd0rBgyKlg",
        "outputId": "c42efd26-49ef-46b6-d4f4-f3485a63f73b"
      },
      "execution_count": 29,
      "outputs": [
        {
          "output_type": "execute_result",
          "data": {
            "text/plain": [
              "5.0"
            ]
          },
          "metadata": {},
          "execution_count": 29
        }
      ]
    },
    {
      "cell_type": "code",
      "source": [
        "def pythagorass(a, b):\n",
        "    c = (a ** 2 + b ** 2) ** 0.5\n",
        "    return c"
      ],
      "metadata": {
        "id": "yak6nqzFx4EN"
      },
      "execution_count": 21,
      "outputs": []
    },
    {
      "cell_type": "code",
      "source": [
        "pythagorass(3, 4)"
      ],
      "metadata": {
        "colab": {
          "base_uri": "https://localhost:8080/"
        },
        "id": "CeKgU95pyAt5",
        "outputId": "dabbdba3-8fc2-4187-deb7-3ec6d31737be"
      },
      "execution_count": 22,
      "outputs": [
        {
          "output_type": "execute_result",
          "data": {
            "text/plain": [
              "5.0"
            ]
          },
          "metadata": {},
          "execution_count": 22
        }
      ]
    },
    {
      "cell_type": "markdown",
      "source": [
        "**Latihan 2**"
      ],
      "metadata": {
        "id": "-6c9QgxByiXX"
      }
    },
    {
      "cell_type": "code",
      "source": [
        "def luas_permukaan_balok(panjang, lebar, tinggi):\n",
        "  luas_permukaan_balok = (2*panjang*lebar+2*panjang*tinggi+2*lebar*tinggi)\n",
        "  return luas_permukaan_balok"
      ],
      "metadata": {
        "id": "JmDZYiY-lFl5"
      },
      "execution_count": 30,
      "outputs": []
    },
    {
      "cell_type": "code",
      "source": [
        "luas_permukaan_balok(5, 3, 2)"
      ],
      "metadata": {
        "colab": {
          "base_uri": "https://localhost:8080/"
        },
        "id": "3IrXhLI-luRX",
        "outputId": "cbd5da08-6fb6-44af-ef20-40a02fc37ddd"
      },
      "execution_count": 31,
      "outputs": [
        {
          "output_type": "execute_result",
          "data": {
            "text/plain": [
              "62"
            ]
          },
          "metadata": {},
          "execution_count": 31
        }
      ]
    },
    {
      "cell_type": "markdown",
      "source": [
        "**Lambda**\n",
        "\n",
        "Fungsi Lambda adalah fungsi anonim one line yang didefinisikan tanpa nama. Fungsi lambda dapat mengambil sejumlah argument, tetapi hanya dapat memiliki satu expression. Sementara fungsi normal didefinisikan menggunakan kata kunci def, dalam Python fungsi anonim didefinisikan menggunakan kata kunci lambda.\n",
        "\n",
        "Fungsi Lambda digunakan ketika fungsi sederhana hanya digunakan sekali atau untuk waktu yang singkat dalam kode kita. Penggunaannya yang paling umum adalah sebagai argumen untuk fungsi tingkat tinggi (fungsi yang menggunakan fungsi lain sebagai argument).\n",
        "\n",
        "Lambda expression di python adalah sebuah expression untuk membuat fungsi.\n",
        "\n",
        "Lambda sendiri berasal dari teori Kalkulus, yakni LambdaCalculus yang dikenalkan oleh Alonzo Church ditahun 1930.\n",
        "\n",
        "Berkat lambda, kita bisa membuat fungsi tanpa nama atau dikenal juga dengan anonymous function.\n",
        "\n",
        "Lambda bisa memiliki lebih dari satu argumen atau parameter, tapi hanya bisa memiliki satu ekspresi atau isi"
      ],
      "metadata": {
        "id": "pP7PpTep7HSF"
      }
    },
    {
      "cell_type": "code",
      "source": [
        "greeting = lambda name: print(f\"hello, {name}\")"
      ],
      "metadata": {
        "id": "Fa5aUnCe7nnW"
      },
      "execution_count": 37,
      "outputs": []
    },
    {
      "cell_type": "markdown",
      "source": [
        "Karena fungsi lambda tidak punya nama, jadi kita butuh variabel untuk menyimpannya\n",
        "\n",
        "Nanti saat mau kita panggil, kita tinggal tuliskan saja nama variabelnya seperti:"
      ],
      "metadata": {
        "id": "Zug--Moq7rgY"
      }
    },
    {
      "cell_type": "code",
      "source": [
        "greeting(\"Dian\")\n",
        "greeting(\"Ayu\")"
      ],
      "metadata": {
        "colab": {
          "base_uri": "https://localhost:8080/"
        },
        "id": "cIBGkiQ-7uRS",
        "outputId": "dfa7c3ee-9038-4da9-d194-957e217ff910"
      },
      "execution_count": 38,
      "outputs": [
        {
          "output_type": "stream",
          "name": "stdout",
          "text": [
            "hello, Dian\n",
            "hello, Ayu\n"
          ]
        }
      ]
    },
    {
      "cell_type": "markdown",
      "source": [
        "Beberapa contoh penggunaan fungsi lambda"
      ],
      "metadata": {
        "id": "S_AIi33I74KV"
      }
    },
    {
      "cell_type": "code",
      "source": [
        "#Fungsi Lambda untuk menambahkan angka 10 kepada argument input\n",
        "f = lambda x: x+10\n",
        "val1 = f(5)\n",
        "val2 = f(100)"
      ],
      "metadata": {
        "id": "TwdiNa_u8Aaw"
      },
      "execution_count": 39,
      "outputs": []
    },
    {
      "cell_type": "code",
      "source": [
        "#Fungsi lambda untuk mengalikan dua argument input dan menampilkan hasilnya\n",
        "f = lambda x,y: x*y\n",
        "val3 = f(2,10)\n",
        "val4 = f(7,5)\n",
        "print(val3,val4)"
      ],
      "metadata": {
        "colab": {
          "base_uri": "https://localhost:8080/"
        },
        "id": "Dcfwpbdy8Dbq",
        "outputId": "57cda9de-d125-4b27-e243-806cee33ea10"
      },
      "execution_count": 40,
      "outputs": [
        {
          "output_type": "stream",
          "name": "stdout",
          "text": [
            "20 35\n"
          ]
        }
      ]
    },
    {
      "cell_type": "markdown",
      "source": [
        "**Anonymous Function**\n",
        "\n",
        "Karena lambda adalah anonymous function, ia akan bebas menggunakan nama apa saja. Dengan kata lain, fungsi lambda bisa disimpan di variabel mana pun. Ini tentunya tidak bisa dilakukan oleh fungsi yang dibuat dengan def: Coba perhatikan ini"
      ],
      "metadata": {
        "id": "Xr5AgyaB8H0I"
      }
    },
    {
      "cell_type": "code",
      "source": [
        "def say_hello(nama):\n",
        "  print(f(\"hello{nama}, apa kabar?\"))\n",
        "\n",
        "ucapin = say_hello(nama)"
      ],
      "metadata": {
        "colab": {
          "base_uri": "https://localhost:8080/",
          "height": 207
        },
        "id": "5STI-DfZ8FBZ",
        "outputId": "05e9f3c3-9d4c-4519-9346-671c652c2a5a"
      },
      "execution_count": 41,
      "outputs": [
        {
          "output_type": "error",
          "ename": "NameError",
          "evalue": "ignored",
          "traceback": [
            "\u001b[0;31m---------------------------------------------------------------------------\u001b[0m",
            "\u001b[0;31mNameError\u001b[0m                                 Traceback (most recent call last)",
            "\u001b[0;32m<ipython-input-41-0e51ea6689c3>\u001b[0m in \u001b[0;36m<cell line: 4>\u001b[0;34m()\u001b[0m\n\u001b[1;32m      2\u001b[0m   \u001b[0mprint\u001b[0m\u001b[0;34m(\u001b[0m\u001b[0mf\u001b[0m\u001b[0;34m(\u001b[0m\u001b[0;34m\"hello{nama}, apa kabar?\"\u001b[0m\u001b[0;34m)\u001b[0m\u001b[0;34m)\u001b[0m\u001b[0;34m\u001b[0m\u001b[0;34m\u001b[0m\u001b[0m\n\u001b[1;32m      3\u001b[0m \u001b[0;34m\u001b[0m\u001b[0m\n\u001b[0;32m----> 4\u001b[0;31m \u001b[0mucapin\u001b[0m \u001b[0;34m=\u001b[0m \u001b[0msay_hello\u001b[0m\u001b[0;34m(\u001b[0m\u001b[0mnama\u001b[0m\u001b[0;34m)\u001b[0m\u001b[0;34m\u001b[0m\u001b[0;34m\u001b[0m\u001b[0m\n\u001b[0m",
            "\u001b[0;31mNameError\u001b[0m: name 'nama' is not defined"
          ]
        }
      ]
    },
    {
      "cell_type": "markdown",
      "source": [
        "Saya mencoba membuat fungsi say_hello() dengan def, kemudian menyimpannya kedalam variabel ucapin. Tapi malah eror.\n",
        "\n",
        "Ini karena fungsi tersebut bukanlah fungsi anonymous yang boleh diubah ubah namnya.\n",
        "\n",
        "Lalu coba perhatikan dibaris terakhir, fungsi lambda greeting() yang sudah disimpan lagi ke variabel yang berbeda, yakni sapa."
      ],
      "metadata": {
        "id": "uEcuF0CV8Q7e"
      }
    },
    {
      "cell_type": "code",
      "source": [
        "greeting = lambda name: print(f\"hello, {name}\")\n",
        "sapa = greeting\n",
        "greeting(\"Andi\")\n",
        "greeting(\"Neli\")"
      ],
      "metadata": {
        "colab": {
          "base_uri": "https://localhost:8080/"
        },
        "id": "ooo81aj18PUj",
        "outputId": "c3e5c35e-44ec-4302-ad02-991758582ab5"
      },
      "execution_count": 42,
      "outputs": [
        {
          "output_type": "stream",
          "name": "stdout",
          "text": [
            "hello, Andi\n",
            "hello, Neli\n"
          ]
        }
      ]
    },
    {
      "cell_type": "markdown",
      "source": [
        "Hasilnya tidak error, karena ini adalah fungsi anonymous atau lambda"
      ],
      "metadata": {
        "id": "wsTLYnYO3y_b"
      }
    },
    {
      "cell_type": "markdown",
      "source": [
        "**Eksekusi Lambda Secara Langsung**\n",
        "\n",
        "Eksekusi lambda secara langsung kelebihan fungsi dibandingkan def adalah bisa kita ekseksi langsung.\n",
        "\n",
        "contohnya."
      ],
      "metadata": {
        "id": "PNKw-Dd-4B_W"
      }
    },
    {
      "cell_type": "code",
      "source": [
        "(lambda x,y: x**2 + y**2)(4,6)"
      ],
      "metadata": {
        "colab": {
          "base_uri": "https://localhost:8080/"
        },
        "id": "ynsuE5Aj8e7F",
        "outputId": "27e48ace-06d5-488f-9f2a-b888be414822"
      },
      "execution_count": 43,
      "outputs": [
        {
          "output_type": "execute_result",
          "data": {
            "text/plain": [
              "52"
            ]
          },
          "metadata": {},
          "execution_count": 43
        }
      ]
    },
    {
      "cell_type": "markdown",
      "source": [
        "Tanda kurung tersebut mengapit fungsi lambda artinya akan langsung mengeksekusi fungsi tersebut.\n",
        "\n",
        "Lalu kurung berikutnya akan berisi parameter.\n",
        "\n",
        "Angka 4 dan 6 adalah parameter x dan y yang akan diberikan kepada fungsi lambda.\n",
        "\n",
        "Maka kita akan langsung medapatkan hasilnya, yakni 42+62 = 52\n",
        "\n",
        "Hasilnya dari eksekusi ini bisa juga kita simpan kedalam variabel"
      ],
      "metadata": {
        "id": "tpDZrFMX8jTQ"
      }
    },
    {
      "cell_type": "code",
      "source": [
        "hasil = (lambda x,y: x**2 + y**2)(4,6)"
      ],
      "metadata": {
        "id": "Gr57Andw8fZj"
      },
      "execution_count": 44,
      "outputs": []
    },
    {
      "cell_type": "markdown",
      "source": [
        "**Mengapa Harus Lambda**\n",
        "\n",
        "Kita memang tidak harus menggunakan Lambda, tapi dalam kasusu tertentu lambda lebih baik dibandingkan fungsi biasa.\n",
        "\n",
        "Lambda biasanya dibutuhkan saat kita ingin membuat fungsi dalam satu baris.\n",
        "\n",
        "Biasanya saat menggunakan fungsi-fungsi seperti filter(), map(), dan reduce() kita akan membutuhkan lambda.\n",
        "\n",
        "Mengapa?\n",
        "\n",
        "Karena di fungsi tersebut membutuhkan parameter fungsi.\n",
        "\n",
        "Contohnya"
      ],
      "metadata": {
        "id": "jaQ6simM8n_b"
      }
    },
    {
      "cell_type": "code",
      "source": [
        "bilangan = [10, 2, 8, 7, 5, 4, 3, 11, 0, 1]\n",
        "filtered_result = map (lambda x: x*x, bilangan)\n",
        "print(list(filtered_result))"
      ],
      "metadata": {
        "colab": {
          "base_uri": "https://localhost:8080/"
        },
        "id": "8rybYV3L8mQ3",
        "outputId": "6c140d81-3c0b-4258-83c4-c1062893469d"
      },
      "execution_count": 45,
      "outputs": [
        {
          "output_type": "stream",
          "name": "stdout",
          "text": [
            "[100, 4, 64, 49, 25, 16, 9, 121, 0, 1]\n"
          ]
        }
      ]
    },
    {
      "cell_type": "markdown",
      "source": [
        "Pada fungsi map() kita memberikan parameter dengan fungsi lambda.\n",
        "\n",
        "Mengapa bisa begitu?\n",
        "\n",
        "Karena lambda bisa disimpan kedalam variabel, otomatis dia akan bisa juga jadi parameter.\n",
        "\n",
        "Satu lagi contoh dengan fungsi filter()"
      ],
      "metadata": {
        "id": "oRrUWCws8u8n"
      }
    },
    {
      "cell_type": "code",
      "source": [
        "#menetukan bilangan genap\n",
        "genap= lambda x: x%2 == 0\n",
        "list(filter(genap, range(11)))"
      ],
      "metadata": {
        "colab": {
          "base_uri": "https://localhost:8080/"
        },
        "id": "IOo3VjXi8tH8",
        "outputId": "eb3c026b-5b23-473e-8b3b-200ec54b0501"
      },
      "execution_count": 46,
      "outputs": [
        {
          "output_type": "execute_result",
          "data": {
            "text/plain": [
              "[0, 2, 4, 6, 8, 10]"
            ]
          },
          "metadata": {},
          "execution_count": 46
        }
      ]
    },
    {
      "cell_type": "markdown",
      "source": [
        "**TUGAS PSDS KELAS DASAR PERTEMUAN KE-11**\n",
        "1.\tBuatlah fungsi lambda untuk menghitung fungsi dari persegi panjang\n",
        "2.\tBuatlah fungsi lambda untuk menghitung luas dari segitiga\n"
      ],
      "metadata": {
        "id": "KHDnVjBOyux3"
      }
    },
    {
      "cell_type": "code",
      "source": [
        "#1 luas persegi panjang\n",
        "luas_persegi_panjang = lambda p,l:p*l\n",
        "luas = luas_persegi_panjang(4,6)\n",
        "print(luas)"
      ],
      "metadata": {
        "colab": {
          "base_uri": "https://localhost:8080/"
        },
        "id": "9nG0e5Lx1M9h",
        "outputId": "659aa6e5-a12a-4671-e0ed-a78413b5e0a4"
      },
      "execution_count": 33,
      "outputs": [
        {
          "output_type": "stream",
          "name": "stdout",
          "text": [
            "24\n"
          ]
        }
      ]
    },
    {
      "cell_type": "code",
      "source": [
        "#2 luas segitiga\n",
        "luas_segitiga = lambda a,t:(a*t)/2\n",
        "luass = luas_segitiga(4,6)\n",
        "print(luass)"
      ],
      "metadata": {
        "colab": {
          "base_uri": "https://localhost:8080/"
        },
        "id": "VNyHGoAO1xPB",
        "outputId": "a02a58b5-58ec-4929-f8b7-6c910f520177"
      },
      "execution_count": 35,
      "outputs": [
        {
          "output_type": "stream",
          "name": "stdout",
          "text": [
            "12.0\n"
          ]
        }
      ]
    },
    {
      "cell_type": "code",
      "source": [],
      "metadata": {
        "id": "VLAjSgKH2JD6"
      },
      "execution_count": null,
      "outputs": []
    }
  ]
}